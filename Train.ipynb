{
  "cells": [
    {
      "cell_type": "markdown",
      "metadata": {
        "id": "view-in-github",
        "colab_type": "text"
      },
      "source": [
        "<a href=\"https://colab.research.google.com/github/TnzTanim/Yolov8-on-custome-dataset/blob/main/Train.ipynb\" target=\"_parent\"><img src=\"https://colab.research.google.com/assets/colab-badge.svg\" alt=\"Open In Colab\"/></a>"
      ]
    },
    {
      "cell_type": "markdown",
      "source": [
        "## Installing Packages"
      ],
      "metadata": {
        "id": "lCXI44jb7MNX"
      }
    },
    {
      "cell_type": "code",
      "execution_count": null,
      "metadata": {
        "colab": {
          "base_uri": "https://localhost:8080/"
        },
        "id": "ovCC3h9W3tht",
        "outputId": "31b3e4cb-8b33-4ea5-c6f8-97fe685e6b34"
      },
      "outputs": [
        {
          "name": "stderr",
          "output_type": "stream",
          "text": [
            "Ultralytics YOLOv8.0.93 🚀 Python-3.10.11 torch-2.0.0+cu118 CUDA:0 (Tesla T4, 15102MiB)\n",
            "Setup complete ✅ (2 CPUs, 12.7 GB RAM, 23.4/78.2 GB disk)\n"
          ]
        }
      ],
      "source": [
        "\n",
        "!pip install ultralytics\n",
        "\n",
        "from IPython import display\n",
        "display.clear_output()\n",
        "\n",
        "import ultralytics\n",
        "ultralytics.checks()"
      ]
    },
    {
      "cell_type": "markdown",
      "source": [
        "## Importing Yolo"
      ],
      "metadata": {
        "id": "zw-Kp0u26eGu"
      }
    },
    {
      "cell_type": "code",
      "execution_count": null,
      "metadata": {
        "id": "-nRqwm4-5G-0"
      },
      "outputs": [],
      "source": [
        "from ultralytics import YOLO\n",
        "\n",
        "from IPython.display import display, Image"
      ]
    },
    {
      "cell_type": "markdown",
      "source": [
        "# Testing a pretrained model(optional)"
      ],
      "metadata": {
        "id": "S7zDVUut6j8I"
      }
    },
    {
      "cell_type": "code",
      "execution_count": null,
      "metadata": {
        "id": "SraMfcG-5OZo"
      },
      "outputs": [],
      "source": [
        "\n",
        "model = YOLO('yolov8n.pt')\n",
        "model.predict(\n",
        "   source='https://media.roboflow.com/notebooks/examples/dog.jpeg',\n",
        "   conf=0.25\n",
        ")"
      ]
    },
    {
      "cell_type": "markdown",
      "source": [
        "## Loading and Unzipping the dataset"
      ],
      "metadata": {
        "id": "Y45DD-Wz6qm8"
      }
    },
    {
      "cell_type": "code",
      "execution_count": null,
      "metadata": {
        "colab": {
          "base_uri": "https://localhost:8080/"
        },
        "id": "IoLspVGUtBtd",
        "outputId": "e4605bde-437d-48da-9982-28d5bda00871"
      },
      "outputs": [
        {
          "name": "stdout",
          "output_type": "stream",
          "text": [
            "replace README.dataset.txt? [y]es, [n]o, [A]ll, [N]one, [r]ename: "
          ]
        }
      ],
      "source": [
        "!unzip -q /path/to/your/dataset"
      ]
    },
    {
      "cell_type": "markdown",
      "source": [
        "## Training"
      ],
      "metadata": {
        "id": "A_w2hjab6pqG"
      }
    },
    {
      "cell_type": "code",
      "execution_count": null,
      "metadata": {
        "id": "-jnBtG95ulPw"
      },
      "outputs": [],
      "source": [
        "!yolo task=detect mode=train model=yolov8s.pt data=/path/to/data.yaml epochs=25 imgsz=800 plots=True"
      ]
    },
    {
      "cell_type": "markdown",
      "source": [
        "## Validating"
      ],
      "metadata": {
        "id": "1spT8RA96xcL"
      }
    },
    {
      "cell_type": "code",
      "execution_count": null,
      "metadata": {
        "id": "OptCvKXY7CQ3"
      },
      "outputs": [],
      "source": [
        "!yolo task=detect mode=val model=/content/runs/detect/train/weights/best.pt data=/content/data.yaml"
      ]
    },
    {
      "cell_type": "code",
      "execution_count": null,
      "metadata": {
        "id": "HnTFjzeX95pg"
      },
      "outputs": [],
      "source": [
        "import locale\n",
        "def getpreferredencoding(do_setlocale = True):\n",
        "    return \"UTF-8\"\n",
        "locale.getpreferredencoding = getpreferredencoding\n",
        "\n",
        "#run this if you face problem with the validation script"
      ]
    },
    {
      "cell_type": "markdown",
      "source": [
        "# Testing Our custome model in a video"
      ],
      "metadata": {
        "id": "34qYkEyt7Dv8"
      }
    },
    {
      "cell_type": "markdown",
      "source": [],
      "metadata": {
        "id": "dOXcpLhn7K1m"
      }
    },
    {
      "cell_type": "code",
      "execution_count": null,
      "metadata": {
        "id": "DCeIVrTP996m"
      },
      "outputs": [],
      "source": [
        "!yolo task=detect mode=predict model=/content/runs/detect/train/weights/best.pt conf=0.25 source= save=True"
      ]
    }
  ],
  "metadata": {
    "accelerator": "GPU",
    "colab": {
      "provenance": [],
      "mount_file_id": "17g2kwEsyup6U7hdSkq2EzNb2VQx-mjTh",
      "authorship_tag": "ABX9TyODMCg35vEFrpuYt0KTR+tX",
      "include_colab_link": true
    },
    "gpuClass": "standard",
    "kernelspec": {
      "display_name": "Python 3",
      "name": "python3"
    },
    "language_info": {
      "name": "python"
    }
  },
  "nbformat": 4,
  "nbformat_minor": 0
}